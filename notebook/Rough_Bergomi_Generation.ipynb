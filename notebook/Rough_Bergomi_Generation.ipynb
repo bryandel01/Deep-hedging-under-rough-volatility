{
 "cells": [
  {
   "cell_type": "code",
   "execution_count": 3,
   "metadata": {},
   "outputs": [],
   "source": [
    "import numpy as np\n",
    "from cmath import * \n",
    "import torch\n",
    "import pickle\n",
    "import os"
   ]
  },
  {
   "cell_type": "code",
   "execution_count": 4,
   "metadata": {},
   "outputs": [],
   "source": [
    "from ipynb.fs.full.Rough_Bergomi import *"
   ]
  },
  {
   "cell_type": "code",
   "execution_count": 6,
   "metadata": {},
   "outputs": [],
   "source": [
    "# Rough Bergomi Parameters\n",
    "\n",
    "V_0=0.235**2 #Forward Variance\n",
    "nu=1.9 \n",
    "rho=-0.7 # Correlation\n",
    "S_0=100 # Spot price\n",
    "H=0.1 # Hurst indice \n",
    "N_Disc=1000 # Discretization\n",
    "\n",
    "\n",
    "# Product to Hedge Parameters\n",
    "Product=\"European Call\"\n",
    "T=30/365 # Maturity\n",
    "K=100 #strike\n",
    "time_steps=30 # Daily Hedging\n",
    "\n",
    "def Call_Payoff(S,K):\n",
    "    return(np.maximum(S-K,0))\n",
    "\n",
    "\n",
    "# Neural Network Training Parameters\n",
    "\n",
    "batch_size=256\n",
    "path_training=30*batch_size\n",
    "vect_days=np.round(np.linspace(0,N_Disc-1,30)).astype(int) # days indexes\n"
   ]
  },
  {
   "cell_type": "code",
   "execution_count": 7,
   "metadata": {},
   "outputs": [
    {
     "name": "stdout",
     "output_type": "stream",
     "text": [
      "S1_train Shape torch.Size([7680, 30, 1])\n"
     ]
    }
   ],
   "source": [
    "#Generate training data\n",
    "\n",
    "training_set=int( (10**6)/(path_training)) # training set size\n",
    "\n",
    "F1=fBM(path_training, N_Disc, T, H, rho)\n",
    "B1=rBergomi(path_training, N_Disc, T , H , V_0, nu, S_0,rho,F1)\n",
    "S1_train=B1.S()\n",
    "S1_train=S1_train[:,vect_days]\n",
    "V1_train=B1.V()\n",
    "V1_train=V1_train[:,vect_days]\n",
    "\n",
    "p_0=np.ones((path_training,time_steps,1))*np.mean(Call_Payoff(S1_train[:,-1],K))\n",
    "p_0=torch.Tensor(p_0)\n",
    "S1_train=torch.reshape(torch.Tensor(S1_train),(S1_train.shape[0],S1_train.shape[1],1))\n",
    "V1_train=torch.reshape(torch.Tensor(V1_train),(V1_train.shape[0],V1_train.shape[1],1))\n",
    "\n",
    "for set_ in range (training_set-1):\n",
    "    \n",
    "    F=fBM(path_training, N_Disc, T, H, rho)\n",
    "    B=rBergomi(path_training, N_Disc, T , H , V_0, nu, S_0,rho,F)\n",
    "    S_train=B.S()\n",
    "    V_train=B.V()\n",
    "    V_train=V_train[:,vect_days]\n",
    "    S_train=S_train[:,vect_days]\n",
    "    p_=np.ones((path_training,time_steps,1))*np.mean(Call_Payoff(S_train[:,-1],K))\n",
    "    p_=torch.Tensor(p_)\n",
    "    S_train=torch.reshape(torch.Tensor(S_train),(S_train.shape[0],S_train.shape[1],1))\n",
    "    V_train=torch.reshape(torch.Tensor(V_train),(V_train.shape[0],V_train.shape[1],1))\n",
    "    V1_train=torch.cat((V1_train,V_train),dim=0)\n",
    "    S1_train=torch.cat((S1_train,S_train),dim=0)\n",
    "    p_0=torch.cat((p_0,p_),dim=0)\n",
    "\n",
    "print('S1_train Shape', S1_train.shape)\n"
   ]
  },
  {
   "cell_type": "code",
   "execution_count": 8,
   "metadata": {},
   "outputs": [],
   "source": [
    "#Save training data \n",
    "\n",
    "S1_training_File = \"S1_training_data.pkl\"  \n",
    "p_0_training_File = \"p_0_training_data.pkl\"  \n",
    "V1_training_File= \"V1_training_data.pkl\"\n",
    "\n",
    "with open(S1_training_File, 'wb') as file:  \n",
    "    pickle.dump(S1_train, file)\n",
    "    \n",
    "with open(p_0_training_File, 'wb') as file:  \n",
    "    pickle.dump(p_0, file)\n",
    "    \n",
    "with open(V1_training_File, 'wb') as file:  \n",
    "    pickle.dump(V1_train, file)"
   ]
  }
 ],
 "metadata": {
  "kernelspec": {
   "display_name": "Python 3",
   "language": "python",
   "name": "python3"
  },
  "language_info": {
   "codemirror_mode": {
    "name": "ipython",
    "version": 3
   },
   "file_extension": ".py",
   "mimetype": "text/x-python",
   "name": "python",
   "nbconvert_exporter": "python",
   "pygments_lexer": "ipython3",
   "version": "3.8.3"
  }
 },
 "nbformat": 4,
 "nbformat_minor": 4
}
